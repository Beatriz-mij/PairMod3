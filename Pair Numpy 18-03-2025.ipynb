{
 "cells": [
  {
   "cell_type": "code",
   "execution_count": null,
   "metadata": {},
   "outputs": [],
   "source": [
    "\n",
    "\n",
    "\n"
   ]
  },
  {
   "cell_type": "code",
   "execution_count": 1,
   "metadata": {},
   "outputs": [],
   "source": [
    "import numpy as np"
   ]
  },
  {
   "cell_type": "code",
   "execution_count": 2,
   "metadata": {},
   "outputs": [],
   "source": [
    "# 1.- Crea un array 1D con 50 valores aleatorio del 10 al 99. Accede a los elementos en las posiciones múltiplos de 5.\n",
    "\n",
    "arr1 = np.random.randint (10, 100, 50)"
   ]
  },
  {
   "cell_type": "code",
   "execution_count": 6,
   "metadata": {},
   "outputs": [],
   "source": [
    "arr1 = np.arange (10, 100, 5)"
   ]
  },
  {
   "cell_type": "code",
   "execution_count": 7,
   "metadata": {},
   "outputs": [
    {
     "data": {
      "text/plain": [
       "array([10, 15, 20, 25, 30, 35, 40, 45, 50, 55, 60, 65, 70, 75, 80, 85, 90,\n",
       "       95])"
      ]
     },
     "execution_count": 7,
     "metadata": {},
     "output_type": "execute_result"
    }
   ],
   "source": [
    "arr1"
   ]
  },
  {
   "cell_type": "code",
   "execution_count": null,
   "metadata": {},
   "outputs": [],
   "source": [
    "# 2.- Crea un array 1D con 30 valores aleatorios del 1 al 20 (ambos incluidos). Utiliza indexación para obtener los elementos en las posiciones impares."
   ]
  },
  {
   "cell_type": "code",
   "execution_count": 10,
   "metadata": {},
   "outputs": [],
   "source": [
    "arr2 = np.random.randint (1, 21, 30)"
   ]
  },
  {
   "cell_type": "code",
   "execution_count": 11,
   "metadata": {},
   "outputs": [
    {
     "data": {
      "text/plain": [
       "array([ 7, 13,  4, 17, 17, 11,  1, 12,  9,  2,  5,  6, 16, 18,  5,  8,  8,\n",
       "        2, 15,  5, 14, 15, 15, 16, 19,  7,  1,  8, 17, 18])"
      ]
     },
     "execution_count": 11,
     "metadata": {},
     "output_type": "execute_result"
    }
   ],
   "source": [
    "arr2"
   ]
  },
  {
   "cell_type": "code",
   "execution_count": null,
   "metadata": {},
   "outputs": [],
   "source": [
    "impares = arr2 [::2]"
   ]
  },
  {
   "cell_type": "code",
   "execution_count": 19,
   "metadata": {},
   "outputs": [
    {
     "data": {
      "text/plain": [
       "array([ 7,  4, 17,  1,  9,  5, 16,  5,  8, 15, 14, 15, 19,  1, 17])"
      ]
     },
     "execution_count": 19,
     "metadata": {},
     "output_type": "execute_result"
    }
   ],
   "source": [
    "impares"
   ]
  },
  {
   "cell_type": "code",
   "execution_count": null,
   "metadata": {},
   "outputs": [],
   "source": [
    "# 3.- Crea un array 2D de forma (4, 6) con números aleatorios decimales (no deben estar comprendidos solo entre 0 y 1). Accede a la última fila de la matriz. Los decimales deben estar redondeados a 2 decimales."
   ]
  },
  {
   "cell_type": "code",
   "execution_count": null,
   "metadata": {},
   "outputs": [],
   "source": [
    "arr3 = np.round(np.random.uniform(1, 20, (4, 6)), 2)"
   ]
  },
  {
   "cell_type": "code",
   "execution_count": 31,
   "metadata": {},
   "outputs": [
    {
     "data": {
      "text/plain": [
       "array([[18.27, 16.36, 11.07, 18.4 , 13.7 , 17.56],\n",
       "       [19.99, 10.58,  3.8 ,  6.51, 15.2 ,  5.51],\n",
       "       [10.17,  1.19, 16.56,  7.11, 16.09, 17.1 ],\n",
       "       [ 1.98, 19.04,  4.77, 15.28, 10.24,  2.98]])"
      ]
     },
     "execution_count": 31,
     "metadata": {},
     "output_type": "execute_result"
    }
   ],
   "source": [
    "arr3"
   ]
  },
  {
   "cell_type": "code",
   "execution_count": 32,
   "metadata": {},
   "outputs": [
    {
     "data": {
      "text/plain": [
       "array([ 1.98, 19.04,  4.77, 15.28, 10.24,  2.98])"
      ]
     },
     "execution_count": 32,
     "metadata": {},
     "output_type": "execute_result"
    }
   ],
   "source": [
    "arr3[3]"
   ]
  },
  {
   "cell_type": "code",
   "execution_count": null,
   "metadata": {},
   "outputs": [],
   "source": [
    "# 1.- Crea un array de tres 3D con elementos entre el 0 y 1 de forma (2, 3, 5) cuyos valores solo tengan 1 decimal."
   ]
  },
  {
   "cell_type": "code",
   "execution_count": 33,
   "metadata": {},
   "outputs": [],
   "source": [
    "arr4 = np.random.rand(2, 3, 5)"
   ]
  },
  {
   "cell_type": "code",
   "execution_count": 34,
   "metadata": {},
   "outputs": [
    {
     "data": {
      "text/plain": [
       "array([[[0.33265466, 0.84192916, 0.7194957 , 0.51421167, 0.49070844],\n",
       "        [0.27162849, 0.62423863, 0.97458126, 0.74930526, 0.46945702],\n",
       "        [0.0934034 , 0.90750955, 0.98225635, 0.58297065, 0.457064  ]],\n",
       "\n",
       "       [[0.91221241, 0.42955551, 0.45702561, 0.06034585, 0.09235886],\n",
       "        [0.27802242, 0.72168293, 0.74745374, 0.64313736, 0.17522163],\n",
       "        [0.81968751, 0.65799733, 0.0706545 , 0.88604146, 0.84175159]]])"
      ]
     },
     "execution_count": 34,
     "metadata": {},
     "output_type": "execute_result"
    }
   ],
   "source": [
    "arr4"
   ]
  },
  {
   "cell_type": "code",
   "execution_count": 35,
   "metadata": {},
   "outputs": [],
   "source": [
    "arr4 = np.round(np.random.rand(2, 3, 5), 1)"
   ]
  },
  {
   "cell_type": "code",
   "execution_count": 36,
   "metadata": {},
   "outputs": [
    {
     "data": {
      "text/plain": [
       "array([[[0.5, 0.8, 1. , 0.8, 0.2],\n",
       "        [0.7, 0.9, 0.1, 0.9, 0.9],\n",
       "        [0.8, 0.2, 0.5, 0. , 0.5]],\n",
       "\n",
       "       [[0.7, 0.8, 0.6, 0.2, 0.1],\n",
       "        [0.4, 0.3, 0.4, 0.8, 0.6],\n",
       "        [0.3, 0.3, 0.3, 0.6, 0.2]]])"
      ]
     },
     "execution_count": 36,
     "metadata": {},
     "output_type": "execute_result"
    }
   ],
   "source": [
    "arr4"
   ]
  },
  {
   "cell_type": "code",
   "execution_count": null,
   "metadata": {},
   "outputs": [],
   "source": [
    "# 2.- Crea un array vacío con la misma forma y dimensiones que el array creado anteriormente. Vamos a reemplazar los valores de la matriz vacía que nos acabamos de crear pero basándonos en los valores del primer array bajo las siguientes condiciones:\n",
    "\n",
    "# Si el valor del array es igual que la media, se reemplaza por \"A\":"
   ]
  },
  {
   "cell_type": "code",
   "execution_count": 56,
   "metadata": {},
   "outputs": [],
   "source": [
    "arr_vacio = np.empty((2, 3, 5))"
   ]
  },
  {
   "cell_type": "code",
   "execution_count": 57,
   "metadata": {},
   "outputs": [
    {
     "data": {
      "text/plain": [
       "array([[[0.5, 0.8, 1. , 0.8, 0.2],\n",
       "        [0.7, 0.9, 0.1, 0.9, 0.9],\n",
       "        [0.8, 0.2, 0.5, 0. , 0.5]],\n",
       "\n",
       "       [[0.7, 0.8, 0.6, 0.2, 0.1],\n",
       "        [0.4, 0.3, 0.4, 0.8, 0.6],\n",
       "        [0.3, 0.3, 0.3, 0.6, 0.2]]])"
      ]
     },
     "execution_count": 57,
     "metadata": {},
     "output_type": "execute_result"
    }
   ],
   "source": [
    "arr_vacio"
   ]
  },
  {
   "cell_type": "code",
   "execution_count": 60,
   "metadata": {},
   "outputs": [],
   "source": [
    "media = np.round(np.mean(arr_vacio), 1)"
   ]
  },
  {
   "cell_type": "code",
   "execution_count": 61,
   "metadata": {},
   "outputs": [
    {
     "data": {
      "text/plain": [
       "0.5"
      ]
     },
     "execution_count": 61,
     "metadata": {},
     "output_type": "execute_result"
    }
   ],
   "source": [
    "media"
   ]
  },
  {
   "cell_type": "code",
   "execution_count": 62,
   "metadata": {},
   "outputs": [],
   "source": [
    "reemplazo_media = np.where(arr_vacio == media, \"A\", arr_vacio)"
   ]
  },
  {
   "cell_type": "code",
   "execution_count": 63,
   "metadata": {},
   "outputs": [
    {
     "data": {
      "text/plain": [
       "array([[['A', '0.8', '1.0', '0.8', '0.2'],\n",
       "        ['0.7', '0.9', '0.1', '0.9', '0.9'],\n",
       "        ['0.8', '0.2', 'A', '0.0', 'A']],\n",
       "\n",
       "       [['0.7', '0.8', '0.6', '0.2', '0.1'],\n",
       "        ['0.4', '0.3', '0.4', '0.8', '0.6'],\n",
       "        ['0.3', '0.3', '0.3', '0.6', '0.2']]], dtype='<U32')"
      ]
     },
     "execution_count": 63,
     "metadata": {},
     "output_type": "execute_result"
    }
   ],
   "source": [
    "reemplazo_media"
   ]
  },
  {
   "cell_type": "code",
   "execution_count": null,
   "metadata": {},
   "outputs": [],
   "source": [
    "# Si el valor del array es mayor que la media, se reemplaza por \"B\"."
   ]
  },
  {
   "cell_type": "code",
   "execution_count": 64,
   "metadata": {},
   "outputs": [],
   "source": [
    "reemplazo_media2 = np.where(arr_vacio == media, \"A\", arr_vacio), np.where(arr_vacio > media, \"B\", arr_vacio)"
   ]
  },
  {
   "cell_type": "code",
   "execution_count": 65,
   "metadata": {},
   "outputs": [
    {
     "data": {
      "text/plain": [
       "(array([[['A', '0.8', '1.0', '0.8', '0.2'],\n",
       "         ['0.7', '0.9', '0.1', '0.9', '0.9'],\n",
       "         ['0.8', '0.2', 'A', '0.0', 'A']],\n",
       " \n",
       "        [['0.7', '0.8', '0.6', '0.2', '0.1'],\n",
       "         ['0.4', '0.3', '0.4', '0.8', '0.6'],\n",
       "         ['0.3', '0.3', '0.3', '0.6', '0.2']]], dtype='<U32'),\n",
       " array([[['0.5', 'B', 'B', 'B', '0.2'],\n",
       "         ['B', 'B', '0.1', 'B', 'B'],\n",
       "         ['B', '0.2', '0.5', '0.0', '0.5']],\n",
       " \n",
       "        [['B', 'B', 'B', '0.2', '0.1'],\n",
       "         ['0.4', '0.3', '0.4', 'B', 'B'],\n",
       "         ['0.3', '0.3', '0.3', 'B', '0.2']]], dtype='<U32'))"
      ]
     },
     "execution_count": 65,
     "metadata": {},
     "output_type": "execute_result"
    }
   ],
   "source": [
    "reemplazo_media2"
   ]
  },
  {
   "cell_type": "code",
   "execution_count": null,
   "metadata": {},
   "outputs": [],
   "source": [
    "# Si el valor del array es menor que la media, se reemplaza por \"C\"."
   ]
  },
  {
   "cell_type": "code",
   "execution_count": 66,
   "metadata": {},
   "outputs": [],
   "source": [
    "reemplazo_media3 = np.where(arr_vacio == media, \"A\", arr_vacio), np.where(arr_vacio > media, \"B\", arr_vacio), np.where (arr_vacio < media, \"C\", arr_vacio)"
   ]
  },
  {
   "cell_type": "code",
   "execution_count": 67,
   "metadata": {},
   "outputs": [
    {
     "data": {
      "text/plain": [
       "(array([[['A', '0.8', '1.0', '0.8', '0.2'],\n",
       "         ['0.7', '0.9', '0.1', '0.9', '0.9'],\n",
       "         ['0.8', '0.2', 'A', '0.0', 'A']],\n",
       " \n",
       "        [['0.7', '0.8', '0.6', '0.2', '0.1'],\n",
       "         ['0.4', '0.3', '0.4', '0.8', '0.6'],\n",
       "         ['0.3', '0.3', '0.3', '0.6', '0.2']]], dtype='<U32'),\n",
       " array([[['0.5', 'B', 'B', 'B', '0.2'],\n",
       "         ['B', 'B', '0.1', 'B', 'B'],\n",
       "         ['B', '0.2', '0.5', '0.0', '0.5']],\n",
       " \n",
       "        [['B', 'B', 'B', '0.2', '0.1'],\n",
       "         ['0.4', '0.3', '0.4', 'B', 'B'],\n",
       "         ['0.3', '0.3', '0.3', 'B', '0.2']]], dtype='<U32'),\n",
       " array([[['0.5', '0.8', '1.0', '0.8', 'C'],\n",
       "         ['0.7', '0.9', 'C', '0.9', '0.9'],\n",
       "         ['0.8', 'C', '0.5', 'C', '0.5']],\n",
       " \n",
       "        [['0.7', '0.8', '0.6', 'C', 'C'],\n",
       "         ['C', 'C', 'C', '0.8', '0.6'],\n",
       "         ['C', 'C', 'C', '0.6', 'C']]], dtype='<U32'))"
      ]
     },
     "execution_count": 67,
     "metadata": {},
     "output_type": "execute_result"
    }
   ],
   "source": [
    "reemplazo_media3"
   ]
  },
  {
   "cell_type": "code",
   "execution_count": 68,
   "metadata": {},
   "outputs": [],
   "source": [
    "# Si el valor es igual que el máximo, se reemplaza por \"D\".\n",
    "\n",
    "maximo = np.max(arr_vacio)"
   ]
  },
  {
   "cell_type": "code",
   "execution_count": 69,
   "metadata": {},
   "outputs": [
    {
     "data": {
      "text/plain": [
       "1.0"
      ]
     },
     "execution_count": 69,
     "metadata": {},
     "output_type": "execute_result"
    }
   ],
   "source": [
    "maximo"
   ]
  },
  {
   "cell_type": "code",
   "execution_count": 71,
   "metadata": {},
   "outputs": [],
   "source": [
    "reemplazo_media4 = np.where(arr_vacio == media, \"A\", arr_vacio), np.where(arr_vacio > media, \"B\", arr_vacio), np.where (arr_vacio < media, \"C\", arr_vacio), np.where (arr_vacio == maximo, \"D\", arr_vacio)"
   ]
  },
  {
   "cell_type": "code",
   "execution_count": 72,
   "metadata": {},
   "outputs": [
    {
     "data": {
      "text/plain": [
       "(array([[['A', '0.8', '1.0', '0.8', '0.2'],\n",
       "         ['0.7', '0.9', '0.1', '0.9', '0.9'],\n",
       "         ['0.8', '0.2', 'A', '0.0', 'A']],\n",
       " \n",
       "        [['0.7', '0.8', '0.6', '0.2', '0.1'],\n",
       "         ['0.4', '0.3', '0.4', '0.8', '0.6'],\n",
       "         ['0.3', '0.3', '0.3', '0.6', '0.2']]], dtype='<U32'),\n",
       " array([[['0.5', 'B', 'B', 'B', '0.2'],\n",
       "         ['B', 'B', '0.1', 'B', 'B'],\n",
       "         ['B', '0.2', '0.5', '0.0', '0.5']],\n",
       " \n",
       "        [['B', 'B', 'B', '0.2', '0.1'],\n",
       "         ['0.4', '0.3', '0.4', 'B', 'B'],\n",
       "         ['0.3', '0.3', '0.3', 'B', '0.2']]], dtype='<U32'),\n",
       " array([[['0.5', '0.8', '1.0', '0.8', 'C'],\n",
       "         ['0.7', '0.9', 'C', '0.9', '0.9'],\n",
       "         ['0.8', 'C', '0.5', 'C', '0.5']],\n",
       " \n",
       "        [['0.7', '0.8', '0.6', 'C', 'C'],\n",
       "         ['C', 'C', 'C', '0.8', '0.6'],\n",
       "         ['C', 'C', 'C', '0.6', 'C']]], dtype='<U32'),\n",
       " array([[['0.5', '0.8', 'D', '0.8', '0.2'],\n",
       "         ['0.7', '0.9', '0.1', '0.9', '0.9'],\n",
       "         ['0.8', '0.2', '0.5', '0.0', '0.5']],\n",
       " \n",
       "        [['0.7', '0.8', '0.6', '0.2', '0.1'],\n",
       "         ['0.4', '0.3', '0.4', '0.8', '0.6'],\n",
       "         ['0.3', '0.3', '0.3', '0.6', '0.2']]], dtype='<U32'))"
      ]
     },
     "execution_count": 72,
     "metadata": {},
     "output_type": "execute_result"
    }
   ],
   "source": [
    "reemplazo_media4"
   ]
  },
  {
   "cell_type": "code",
   "execution_count": null,
   "metadata": {},
   "outputs": [],
   "source": [
    "# Si el valor es igual que el mínimo, se reemplaza por \"E\""
   ]
  },
  {
   "cell_type": "code",
   "execution_count": 75,
   "metadata": {},
   "outputs": [],
   "source": [
    "minimo = np.min(arr_vacio)"
   ]
  },
  {
   "cell_type": "code",
   "execution_count": 76,
   "metadata": {},
   "outputs": [
    {
     "data": {
      "text/plain": [
       "0.0"
      ]
     },
     "execution_count": 76,
     "metadata": {},
     "output_type": "execute_result"
    }
   ],
   "source": [
    "minimo"
   ]
  },
  {
   "cell_type": "code",
   "execution_count": 77,
   "metadata": {},
   "outputs": [],
   "source": [
    "reemplazo_media5 = np.where(arr_vacio == media, \"A\", arr_vacio), np.where(arr_vacio > media, \"B\", arr_vacio), np.where (arr_vacio < media, \"C\", arr_vacio), np.where (arr_vacio == maximo, \"D\", arr_vacio), np.where (arr_vacio == minimo, \"E\", arr_vacio)"
   ]
  },
  {
   "cell_type": "code",
   "execution_count": 78,
   "metadata": {},
   "outputs": [
    {
     "data": {
      "text/plain": [
       "(array([[['A', '0.8', '1.0', '0.8', '0.2'],\n",
       "         ['0.7', '0.9', '0.1', '0.9', '0.9'],\n",
       "         ['0.8', '0.2', 'A', '0.0', 'A']],\n",
       " \n",
       "        [['0.7', '0.8', '0.6', '0.2', '0.1'],\n",
       "         ['0.4', '0.3', '0.4', '0.8', '0.6'],\n",
       "         ['0.3', '0.3', '0.3', '0.6', '0.2']]], dtype='<U32'),\n",
       " array([[['0.5', 'B', 'B', 'B', '0.2'],\n",
       "         ['B', 'B', '0.1', 'B', 'B'],\n",
       "         ['B', '0.2', '0.5', '0.0', '0.5']],\n",
       " \n",
       "        [['B', 'B', 'B', '0.2', '0.1'],\n",
       "         ['0.4', '0.3', '0.4', 'B', 'B'],\n",
       "         ['0.3', '0.3', '0.3', 'B', '0.2']]], dtype='<U32'),\n",
       " array([[['0.5', '0.8', '1.0', '0.8', 'C'],\n",
       "         ['0.7', '0.9', 'C', '0.9', '0.9'],\n",
       "         ['0.8', 'C', '0.5', 'C', '0.5']],\n",
       " \n",
       "        [['0.7', '0.8', '0.6', 'C', 'C'],\n",
       "         ['C', 'C', 'C', '0.8', '0.6'],\n",
       "         ['C', 'C', 'C', '0.6', 'C']]], dtype='<U32'),\n",
       " array([[['0.5', '0.8', 'D', '0.8', '0.2'],\n",
       "         ['0.7', '0.9', '0.1', '0.9', '0.9'],\n",
       "         ['0.8', '0.2', '0.5', '0.0', '0.5']],\n",
       " \n",
       "        [['0.7', '0.8', '0.6', '0.2', '0.1'],\n",
       "         ['0.4', '0.3', '0.4', '0.8', '0.6'],\n",
       "         ['0.3', '0.3', '0.3', '0.6', '0.2']]], dtype='<U32'),\n",
       " array([[['0.5', '0.8', '1.0', '0.8', '0.2'],\n",
       "         ['0.7', '0.9', '0.1', '0.9', '0.9'],\n",
       "         ['0.8', '0.2', '0.5', 'E', '0.5']],\n",
       " \n",
       "        [['0.7', '0.8', '0.6', '0.2', '0.1'],\n",
       "         ['0.4', '0.3', '0.4', '0.8', '0.6'],\n",
       "         ['0.3', '0.3', '0.3', '0.6', '0.2']]], dtype='<U32'))"
      ]
     },
     "execution_count": 78,
     "metadata": {},
     "output_type": "execute_result"
    }
   ],
   "source": [
    "reemplazo_media5"
   ]
  },
  {
   "cell_type": "code",
   "execution_count": 79,
   "metadata": {},
   "outputs": [],
   "source": [
    "# Crea un array 3D de forma (2, 3, 5) y 30 elementos con números enteros entre 0 y 100 (ambos incluidos). Reemplaza los elementos en posiciones múltiplos de 3 por 0.\n",
    "\n",
    "arr_3d = np.random.randint(0, 101, (2, 3, 5))"
   ]
  },
  {
   "cell_type": "code",
   "execution_count": 80,
   "metadata": {},
   "outputs": [
    {
     "data": {
      "text/plain": [
       "array([[[55, 47, 78,  6, 54],\n",
       "        [32, 17, 29,  8, 82],\n",
       "        [ 1, 41,  2, 22, 72]],\n",
       "\n",
       "       [[57, 58, 31, 24, 24],\n",
       "        [50, 56,  4, 70, 21],\n",
       "        [ 4, 61, 24, 17,  2]]])"
      ]
     },
     "execution_count": 80,
     "metadata": {},
     "output_type": "execute_result"
    }
   ],
   "source": [
    "arr_3d"
   ]
  },
  {
   "cell_type": "code",
   "execution_count": 85,
   "metadata": {},
   "outputs": [],
   "source": [
    "arr_3d.flat[::3] = 0\n"
   ]
  },
  {
   "cell_type": "code",
   "execution_count": 86,
   "metadata": {},
   "outputs": [
    {
     "data": {
      "text/plain": [
       "array([[[ 0,  0,  0,  0,  0],\n",
       "        [ 0,  0,  0,  0,  0],\n",
       "        [ 0,  0,  0,  0,  0]],\n",
       "\n",
       "       [[ 0, 58, 31,  0, 24],\n",
       "        [50,  0,  4, 70,  0],\n",
       "        [ 4, 61,  0, 17,  2]]])"
      ]
     },
     "execution_count": 86,
     "metadata": {},
     "output_type": "execute_result"
    }
   ],
   "source": [
    "arr_3d"
   ]
  }
 ],
 "metadata": {
  "kernelspec": {
   "display_name": "base",
   "language": "python",
   "name": "python3"
  },
  "language_info": {
   "codemirror_mode": {
    "name": "ipython",
    "version": 3
   },
   "file_extension": ".py",
   "mimetype": "text/x-python",
   "name": "python",
   "nbconvert_exporter": "python",
   "pygments_lexer": "ipython3",
   "version": "3.12.7"
  }
 },
 "nbformat": 4,
 "nbformat_minor": 2
}
