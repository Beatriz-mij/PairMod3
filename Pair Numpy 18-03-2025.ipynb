{
 "cells": [
  {
   "cell_type": "code",
   "execution_count": null,
   "metadata": {},
   "outputs": [],
   "source": [
    "\n",
    "\n",
    "\n"
   ]
  },
  {
   "cell_type": "code",
   "execution_count": 31,
   "metadata": {},
   "outputs": [],
   "source": [
    "import numpy as np"
   ]
  },
  {
   "cell_type": "code",
   "execution_count": 32,
   "metadata": {},
   "outputs": [],
   "source": [
    "# 1.- Crea un array 1D con 50 valores aleatorio del 10 al 99. Accede a los elementos en las posiciones múltiplos de 5.\n",
    "\n",
    "arr1 = np.random.randint (10, 100, 50)"
   ]
  },
  {
   "cell_type": "code",
   "execution_count": 33,
   "metadata": {},
   "outputs": [],
   "source": [
    "arr1 = np.arange (10, 100, 5)"
   ]
  },
  {
   "cell_type": "code",
   "execution_count": 34,
   "metadata": {},
   "outputs": [
    {
     "data": {
      "text/plain": [
       "array([10, 15, 20, 25, 30, 35, 40, 45, 50, 55, 60, 65, 70, 75, 80, 85, 90,\n",
       "       95])"
      ]
     },
     "execution_count": 34,
     "metadata": {},
     "output_type": "execute_result"
    }
   ],
   "source": [
    "arr1"
   ]
  },
  {
   "cell_type": "code",
   "execution_count": 35,
   "metadata": {},
   "outputs": [],
   "source": [
    "# 2.- Crea un array 1D con 30 valores aleatorios del 1 al 20 (ambos incluidos). Utiliza indexación para obtener los elementos en las posiciones impares."
   ]
  },
  {
   "cell_type": "code",
   "execution_count": 36,
   "metadata": {},
   "outputs": [],
   "source": [
    "arr2 = np.random.randint (1, 21, 30)"
   ]
  },
  {
   "cell_type": "code",
   "execution_count": 37,
   "metadata": {},
   "outputs": [
    {
     "data": {
      "text/plain": [
       "array([ 7, 11, 16, 12, 10, 15, 14, 10, 13, 19, 15, 17, 13,  5, 19,  6, 14,\n",
       "        8, 19,  4,  2, 19,  9, 20, 19, 13,  2, 16, 13, 10])"
      ]
     },
     "execution_count": 37,
     "metadata": {},
     "output_type": "execute_result"
    }
   ],
   "source": [
    "arr2"
   ]
  },
  {
   "cell_type": "code",
   "execution_count": 38,
   "metadata": {},
   "outputs": [],
   "source": [
    "impares = arr2 [::2]"
   ]
  },
  {
   "cell_type": "code",
   "execution_count": 39,
   "metadata": {},
   "outputs": [
    {
     "data": {
      "text/plain": [
       "array([ 7, 16, 10, 14, 13, 15, 13, 19, 14, 19,  2,  9, 19,  2, 13])"
      ]
     },
     "execution_count": 39,
     "metadata": {},
     "output_type": "execute_result"
    }
   ],
   "source": [
    "impares"
   ]
  },
  {
   "cell_type": "code",
   "execution_count": 40,
   "metadata": {},
   "outputs": [],
   "source": [
    "# 3.- Crea un array 2D de forma (4, 6) con números aleatorios decimales (no deben estar comprendidos solo entre 0 y 1). Accede a la última fila de la matriz. Los decimales deben estar redondeados a 2 decimales."
   ]
  },
  {
   "cell_type": "code",
   "execution_count": 41,
   "metadata": {},
   "outputs": [],
   "source": [
    "arr3 = np.round(np.random.uniform(1, 20, (4, 6)), 2)"
   ]
  },
  {
   "cell_type": "code",
   "execution_count": 42,
   "metadata": {},
   "outputs": [
    {
     "data": {
      "text/plain": [
       "array([[10.28,  8.81, 19.75,  9.76, 18.3 ,  5.82],\n",
       "       [10.53,  2.37,  3.22, 16.32, 16.99, 10.19],\n",
       "       [15.4 , 14.05, 10.73, 16.65, 14.19, 17.4 ],\n",
       "       [ 3.28, 16.3 , 19.68,  8.93,  8.58,  5.03]])"
      ]
     },
     "execution_count": 42,
     "metadata": {},
     "output_type": "execute_result"
    }
   ],
   "source": [
    "arr3"
   ]
  },
  {
   "cell_type": "code",
   "execution_count": 43,
   "metadata": {},
   "outputs": [
    {
     "data": {
      "text/plain": [
       "array([ 3.28, 16.3 , 19.68,  8.93,  8.58,  5.03])"
      ]
     },
     "execution_count": 43,
     "metadata": {},
     "output_type": "execute_result"
    }
   ],
   "source": [
    "arr3[3]"
   ]
  },
  {
   "cell_type": "code",
   "execution_count": 44,
   "metadata": {},
   "outputs": [],
   "source": [
    "# 1.- Crea un array de tres 3D con elementos entre el 0 y 1 de forma (2, 3, 5) cuyos valores solo tengan 1 decimal."
   ]
  },
  {
   "cell_type": "code",
   "execution_count": 45,
   "metadata": {},
   "outputs": [],
   "source": [
    "arr4 = np.random.rand(2, 3, 5)"
   ]
  },
  {
   "cell_type": "code",
   "execution_count": 46,
   "metadata": {},
   "outputs": [
    {
     "data": {
      "text/plain": [
       "array([[[0.51095275, 0.73996532, 0.76679532, 0.53056421, 0.09792277],\n",
       "        [0.91012164, 0.07573491, 0.03235745, 0.24626138, 0.04972494],\n",
       "        [0.82763249, 0.61211409, 0.98583998, 0.90796111, 0.56704791]],\n",
       "\n",
       "       [[0.71593911, 0.96666861, 0.44781604, 0.86720443, 0.18866482],\n",
       "        [0.57141468, 0.45888454, 0.68444144, 0.21775255, 0.28281407],\n",
       "        [0.808663  , 0.76628572, 0.99144954, 0.0035794 , 0.6031856 ]]])"
      ]
     },
     "execution_count": 46,
     "metadata": {},
     "output_type": "execute_result"
    }
   ],
   "source": [
    "arr4"
   ]
  },
  {
   "cell_type": "code",
   "execution_count": 47,
   "metadata": {},
   "outputs": [],
   "source": [
    "arr4 = np.round(np.random.rand(2, 3, 5), 1)"
   ]
  },
  {
   "cell_type": "code",
   "execution_count": 48,
   "metadata": {},
   "outputs": [
    {
     "data": {
      "text/plain": [
       "array([[[0.8, 0.7, 0.9, 1. , 0.4],\n",
       "        [0.1, 1. , 0.2, 0.6, 1. ],\n",
       "        [0.4, 0.2, 0.5, 1. , 0.7]],\n",
       "\n",
       "       [[0.4, 0.1, 0.3, 0.2, 0.3],\n",
       "        [1. , 0.7, 0.6, 0.9, 0.3],\n",
       "        [0.6, 0.8, 0.4, 0.6, 0.3]]])"
      ]
     },
     "execution_count": 48,
     "metadata": {},
     "output_type": "execute_result"
    }
   ],
   "source": [
    "arr4"
   ]
  },
  {
   "cell_type": "code",
   "execution_count": 49,
   "metadata": {},
   "outputs": [],
   "source": [
    "# 2.- Crea un array vacío con la misma forma y dimensiones que el array creado anteriormente. Vamos a reemplazar los valores de la matriz vacía que nos acabamos de crear pero basándonos en los valores del primer array bajo las siguientes condiciones:\n",
    "\n",
    "# Si el valor del array es igual que la media, se reemplaza por \"A\":"
   ]
  },
  {
   "cell_type": "code",
   "execution_count": 50,
   "metadata": {},
   "outputs": [],
   "source": [
    "arr_vacio = np.empty((2, 3, 5))"
   ]
  },
  {
   "cell_type": "code",
   "execution_count": 51,
   "metadata": {},
   "outputs": [
    {
     "data": {
      "text/plain": [
       "array([[[0.8, 0.7, 0.9, 1. , 0.4],\n",
       "        [0.1, 1. , 0.2, 0.6, 1. ],\n",
       "        [0.4, 0.2, 0.5, 1. , 0.7]],\n",
       "\n",
       "       [[0.4, 0.1, 0.3, 0.2, 0.3],\n",
       "        [1. , 0.7, 0.6, 0.9, 0.3],\n",
       "        [0.6, 0.8, 0.4, 0.6, 0.3]]])"
      ]
     },
     "execution_count": 51,
     "metadata": {},
     "output_type": "execute_result"
    }
   ],
   "source": [
    "arr_vacio"
   ]
  },
  {
   "cell_type": "code",
   "execution_count": 52,
   "metadata": {},
   "outputs": [],
   "source": [
    "media = np.round(np.mean(arr_vacio), 1)"
   ]
  },
  {
   "cell_type": "code",
   "execution_count": 53,
   "metadata": {},
   "outputs": [
    {
     "data": {
      "text/plain": [
       "0.6"
      ]
     },
     "execution_count": 53,
     "metadata": {},
     "output_type": "execute_result"
    }
   ],
   "source": [
    "media"
   ]
  },
  {
   "cell_type": "code",
   "execution_count": 54,
   "metadata": {},
   "outputs": [],
   "source": [
    "reemplazo_media = np.where(arr_vacio == media, \"A\", arr_vacio)"
   ]
  },
  {
   "cell_type": "code",
   "execution_count": 55,
   "metadata": {},
   "outputs": [
    {
     "data": {
      "text/plain": [
       "array([[['0.8', '0.7', '0.9', '1.0', '0.4'],\n",
       "        ['0.1', '1.0', '0.2', 'A', '1.0'],\n",
       "        ['0.4', '0.2', '0.5', '1.0', '0.7']],\n",
       "\n",
       "       [['0.4', '0.1', '0.3', '0.2', '0.3'],\n",
       "        ['1.0', '0.7', 'A', '0.9', '0.3'],\n",
       "        ['A', '0.8', '0.4', 'A', '0.3']]], dtype='<U32')"
      ]
     },
     "execution_count": 55,
     "metadata": {},
     "output_type": "execute_result"
    }
   ],
   "source": [
    "reemplazo_media"
   ]
  },
  {
   "cell_type": "code",
   "execution_count": 56,
   "metadata": {},
   "outputs": [],
   "source": [
    "# Si el valor del array es mayor que la media, se reemplaza por \"B\"."
   ]
  },
  {
   "cell_type": "code",
   "execution_count": 57,
   "metadata": {},
   "outputs": [],
   "source": [
    "reemplazo_media2 = np.where(arr_vacio == media, \"A\", arr_vacio), np.where(arr_vacio > media, \"B\", arr_vacio)"
   ]
  },
  {
   "cell_type": "code",
   "execution_count": 58,
   "metadata": {},
   "outputs": [
    {
     "data": {
      "text/plain": [
       "(array([[['0.8', '0.7', '0.9', '1.0', '0.4'],\n",
       "         ['0.1', '1.0', '0.2', 'A', '1.0'],\n",
       "         ['0.4', '0.2', '0.5', '1.0', '0.7']],\n",
       " \n",
       "        [['0.4', '0.1', '0.3', '0.2', '0.3'],\n",
       "         ['1.0', '0.7', 'A', '0.9', '0.3'],\n",
       "         ['A', '0.8', '0.4', 'A', '0.3']]], dtype='<U32'),\n",
       " array([[['B', 'B', 'B', 'B', '0.4'],\n",
       "         ['0.1', 'B', '0.2', '0.6', 'B'],\n",
       "         ['0.4', '0.2', '0.5', 'B', 'B']],\n",
       " \n",
       "        [['0.4', '0.1', '0.3', '0.2', '0.3'],\n",
       "         ['B', 'B', '0.6', 'B', '0.3'],\n",
       "         ['0.6', 'B', '0.4', '0.6', '0.3']]], dtype='<U32'))"
      ]
     },
     "execution_count": 58,
     "metadata": {},
     "output_type": "execute_result"
    }
   ],
   "source": [
    "reemplazo_media2"
   ]
  },
  {
   "cell_type": "code",
   "execution_count": 59,
   "metadata": {},
   "outputs": [],
   "source": [
    "# Si el valor del array es menor que la media, se reemplaza por \"C\"."
   ]
  },
  {
   "cell_type": "code",
   "execution_count": 76,
   "metadata": {},
   "outputs": [],
   "source": [
    "reemplazo_media3 = np.where(arr_vacio == media, \"A\", arr_vacio), np.where(arr_vacio > media, \"B\", arr_vacio), np.where (arr_vacio < media, \"C\", arr_vacio)"
   ]
  },
  {
   "cell_type": "code",
   "execution_count": 78,
   "metadata": {},
   "outputs": [],
   "source": [
    "# Definir condiciones\n",
    "condiciones = [\n",
    "    arr_vacio == media,  # Igual a la media → \"A\"\n",
    "    arr_vacio > media,   # Mayor que la media → \"B\"\n",
    "    arr_vacio < media    # Menor que la media → \"C\"\n",
    "]\n",
    "# Valores que se asignarán según las condiciones\n",
    "valores = [\"A\", \"B\", \"C\"]\n",
    "# Aplicar np.select()\n",
    "reemplazo_media3 = np.select(condiciones, valores)"
   ]
  },
  {
   "cell_type": "code",
   "execution_count": 79,
   "metadata": {},
   "outputs": [
    {
     "data": {
      "text/plain": [
       "array([[['B', 'B', 'B', 'B', 'C'],\n",
       "        ['C', 'B', 'C', 'A', 'B'],\n",
       "        ['C', 'C', 'C', 'B', 'B']],\n",
       "\n",
       "       [['C', 'C', 'C', 'C', 'C'],\n",
       "        ['B', 'B', 'A', 'B', 'C'],\n",
       "        ['A', 'B', 'C', 'A', 'C']]], dtype='<U3')"
      ]
     },
     "execution_count": 79,
     "metadata": {},
     "output_type": "execute_result"
    }
   ],
   "source": [
    "reemplazo_media3"
   ]
  },
  {
   "cell_type": "code",
   "execution_count": 62,
   "metadata": {},
   "outputs": [],
   "source": [
    "# Si el valor es igual que el máximo, se reemplaza por \"D\".\n",
    "\n",
    "maximo = np.max(arr_vacio)"
   ]
  },
  {
   "cell_type": "code",
   "execution_count": 63,
   "metadata": {},
   "outputs": [
    {
     "data": {
      "text/plain": [
       "1.0"
      ]
     },
     "execution_count": 63,
     "metadata": {},
     "output_type": "execute_result"
    }
   ],
   "source": [
    "maximo"
   ]
  },
  {
   "cell_type": "code",
   "execution_count": 64,
   "metadata": {},
   "outputs": [],
   "source": [
    "reemplazo_media4 = np.where(arr_vacio == media, \"A\", arr_vacio), np.where(arr_vacio > media, \"B\", arr_vacio), np.where (arr_vacio < media, \"C\", arr_vacio), np.where (arr_vacio == maximo, \"D\", arr_vacio)"
   ]
  },
  {
   "cell_type": "code",
   "execution_count": 65,
   "metadata": {},
   "outputs": [
    {
     "data": {
      "text/plain": [
       "(array([[['0.8', '0.7', '0.9', '1.0', '0.4'],\n",
       "         ['0.1', '1.0', '0.2', 'A', '1.0'],\n",
       "         ['0.4', '0.2', '0.5', '1.0', '0.7']],\n",
       " \n",
       "        [['0.4', '0.1', '0.3', '0.2', '0.3'],\n",
       "         ['1.0', '0.7', 'A', '0.9', '0.3'],\n",
       "         ['A', '0.8', '0.4', 'A', '0.3']]], dtype='<U32'),\n",
       " array([[['B', 'B', 'B', 'B', '0.4'],\n",
       "         ['0.1', 'B', '0.2', '0.6', 'B'],\n",
       "         ['0.4', '0.2', '0.5', 'B', 'B']],\n",
       " \n",
       "        [['0.4', '0.1', '0.3', '0.2', '0.3'],\n",
       "         ['B', 'B', '0.6', 'B', '0.3'],\n",
       "         ['0.6', 'B', '0.4', '0.6', '0.3']]], dtype='<U32'),\n",
       " array([[['0.8', '0.7', '0.9', '1.0', 'C'],\n",
       "         ['C', '1.0', 'C', '0.6', '1.0'],\n",
       "         ['C', 'C', 'C', '1.0', '0.7']],\n",
       " \n",
       "        [['C', 'C', 'C', 'C', 'C'],\n",
       "         ['1.0', '0.7', '0.6', '0.9', 'C'],\n",
       "         ['0.6', '0.8', 'C', '0.6', 'C']]], dtype='<U32'),\n",
       " array([[['0.8', '0.7', '0.9', 'D', '0.4'],\n",
       "         ['0.1', 'D', '0.2', '0.6', 'D'],\n",
       "         ['0.4', '0.2', '0.5', 'D', '0.7']],\n",
       " \n",
       "        [['0.4', '0.1', '0.3', '0.2', '0.3'],\n",
       "         ['D', '0.7', '0.6', '0.9', '0.3'],\n",
       "         ['0.6', '0.8', '0.4', '0.6', '0.3']]], dtype='<U32'))"
      ]
     },
     "execution_count": 65,
     "metadata": {},
     "output_type": "execute_result"
    }
   ],
   "source": [
    "reemplazo_media4"
   ]
  },
  {
   "cell_type": "code",
   "execution_count": 66,
   "metadata": {},
   "outputs": [],
   "source": [
    "# Si el valor es igual que el mínimo, se reemplaza por \"E\""
   ]
  },
  {
   "cell_type": "code",
   "execution_count": 67,
   "metadata": {},
   "outputs": [],
   "source": [
    "minimo = np.min(arr_vacio)"
   ]
  },
  {
   "cell_type": "code",
   "execution_count": 68,
   "metadata": {},
   "outputs": [
    {
     "data": {
      "text/plain": [
       "0.1"
      ]
     },
     "execution_count": 68,
     "metadata": {},
     "output_type": "execute_result"
    }
   ],
   "source": [
    "minimo"
   ]
  },
  {
   "cell_type": "code",
   "execution_count": 69,
   "metadata": {},
   "outputs": [],
   "source": [
    "reemplazo_media5 = np.where(arr_vacio == media, \"A\", arr_vacio), np.where(arr_vacio > media, \"B\", arr_vacio), np.where (arr_vacio < media, \"C\", arr_vacio), np.where (arr_vacio == maximo, \"D\", arr_vacio), np.where (arr_vacio == minimo, \"E\", arr_vacio)"
   ]
  },
  {
   "cell_type": "code",
   "execution_count": 70,
   "metadata": {},
   "outputs": [
    {
     "data": {
      "text/plain": [
       "(array([[['0.8', '0.7', '0.9', '1.0', '0.4'],\n",
       "         ['0.1', '1.0', '0.2', 'A', '1.0'],\n",
       "         ['0.4', '0.2', '0.5', '1.0', '0.7']],\n",
       " \n",
       "        [['0.4', '0.1', '0.3', '0.2', '0.3'],\n",
       "         ['1.0', '0.7', 'A', '0.9', '0.3'],\n",
       "         ['A', '0.8', '0.4', 'A', '0.3']]], dtype='<U32'),\n",
       " array([[['B', 'B', 'B', 'B', '0.4'],\n",
       "         ['0.1', 'B', '0.2', '0.6', 'B'],\n",
       "         ['0.4', '0.2', '0.5', 'B', 'B']],\n",
       " \n",
       "        [['0.4', '0.1', '0.3', '0.2', '0.3'],\n",
       "         ['B', 'B', '0.6', 'B', '0.3'],\n",
       "         ['0.6', 'B', '0.4', '0.6', '0.3']]], dtype='<U32'),\n",
       " array([[['0.8', '0.7', '0.9', '1.0', 'C'],\n",
       "         ['C', '1.0', 'C', '0.6', '1.0'],\n",
       "         ['C', 'C', 'C', '1.0', '0.7']],\n",
       " \n",
       "        [['C', 'C', 'C', 'C', 'C'],\n",
       "         ['1.0', '0.7', '0.6', '0.9', 'C'],\n",
       "         ['0.6', '0.8', 'C', '0.6', 'C']]], dtype='<U32'),\n",
       " array([[['0.8', '0.7', '0.9', 'D', '0.4'],\n",
       "         ['0.1', 'D', '0.2', '0.6', 'D'],\n",
       "         ['0.4', '0.2', '0.5', 'D', '0.7']],\n",
       " \n",
       "        [['0.4', '0.1', '0.3', '0.2', '0.3'],\n",
       "         ['D', '0.7', '0.6', '0.9', '0.3'],\n",
       "         ['0.6', '0.8', '0.4', '0.6', '0.3']]], dtype='<U32'),\n",
       " array([[['0.8', '0.7', '0.9', '1.0', '0.4'],\n",
       "         ['E', '1.0', '0.2', '0.6', '1.0'],\n",
       "         ['0.4', '0.2', '0.5', '1.0', '0.7']],\n",
       " \n",
       "        [['0.4', 'E', '0.3', '0.2', '0.3'],\n",
       "         ['1.0', '0.7', '0.6', '0.9', '0.3'],\n",
       "         ['0.6', '0.8', '0.4', '0.6', '0.3']]], dtype='<U32'))"
      ]
     },
     "execution_count": 70,
     "metadata": {},
     "output_type": "execute_result"
    }
   ],
   "source": [
    "reemplazo_media5"
   ]
  },
  {
   "cell_type": "code",
   "execution_count": 71,
   "metadata": {},
   "outputs": [],
   "source": [
    "# Crea un array 3D de forma (2, 3, 5) y 30 elementos con números enteros entre 0 y 100 (ambos incluidos). Reemplaza los elementos en posiciones múltiplos de 3 por 0.\n",
    "\n",
    "arr_3d = np.random.randint(0, 101, (2, 3, 5))"
   ]
  },
  {
   "cell_type": "code",
   "execution_count": 72,
   "metadata": {},
   "outputs": [
    {
     "data": {
      "text/plain": [
       "array([[[67, 25, 51, 63,  1],\n",
       "        [35, 79, 43, 46, 44],\n",
       "        [48, 79, 89, 15, 99]],\n",
       "\n",
       "       [[ 4, 93,  6, 34, 41],\n",
       "        [ 8, 67, 77, 10, 64],\n",
       "        [41, 26, 52, 48,  3]]])"
      ]
     },
     "execution_count": 72,
     "metadata": {},
     "output_type": "execute_result"
    }
   ],
   "source": [
    "arr_3d"
   ]
  },
  {
   "cell_type": "code",
   "execution_count": 73,
   "metadata": {},
   "outputs": [],
   "source": [
    "arr_3d.flat[::3] = 0\n"
   ]
  },
  {
   "cell_type": "code",
   "execution_count": 74,
   "metadata": {},
   "outputs": [
    {
     "data": {
      "text/plain": [
       "array([[[ 0, 25, 51,  0,  1],\n",
       "        [35,  0, 43, 46,  0],\n",
       "        [48, 79,  0, 15, 99]],\n",
       "\n",
       "       [[ 0, 93,  6,  0, 41],\n",
       "        [ 8,  0, 77, 10,  0],\n",
       "        [41, 26,  0, 48,  3]]])"
      ]
     },
     "execution_count": 74,
     "metadata": {},
     "output_type": "execute_result"
    }
   ],
   "source": [
    "arr_3d"
   ]
  }
 ],
 "metadata": {
  "kernelspec": {
   "display_name": "base",
   "language": "python",
   "name": "python3"
  },
  "language_info": {
   "codemirror_mode": {
    "name": "ipython",
    "version": 3
   },
   "file_extension": ".py",
   "mimetype": "text/x-python",
   "name": "python",
   "nbconvert_exporter": "python",
   "pygments_lexer": "ipython3",
   "version": "3.12.9"
  }
 },
 "nbformat": 4,
 "nbformat_minor": 2
}
